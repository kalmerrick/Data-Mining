{
 "cells": [
  {
   "cell_type": "markdown",
   "metadata": {},
   "source": [
    "### Imports"
   ]
  },
  {
   "cell_type": "code",
   "execution_count": 1,
   "metadata": {},
   "outputs": [],
   "source": [
    "import numpy as np\n",
    "import pandas as pd\n",
    "import matplotlib.pyplot as plt\n",
    "%matplotlib inline\n",
    "import os\n",
    "from datetime import datetime\n",
    "import re\n",
    "import collections\n",
    "import string"
   ]
  },
  {
   "cell_type": "code",
   "execution_count": 2,
   "metadata": {},
   "outputs": [],
   "source": [
    "# Function that displays all the columns of a data frame\n",
    "def display_all(df):\n",
    "    with pd.option_context(\"display.max_rows\", 1000, \"display.max_columns\", 1000): \n",
    "        display(df)"
   ]
  },
  {
   "cell_type": "code",
   "execution_count": 3,
   "metadata": {},
   "outputs": [
    {
     "data": {
      "text/plain": [
       "'C:\\\\Users\\\\Kalmerrick\\\\Documents\\\\JC Treasury Analysis\\\\Parole Stats Analysis'"
      ]
     },
     "execution_count": 3,
     "metadata": {},
     "output_type": "execute_result"
    }
   ],
   "source": [
    "os.getcwd()"
   ]
  },
  {
   "cell_type": "code",
   "execution_count": 4,
   "metadata": {},
   "outputs": [],
   "source": [
    "PATH = 'Data/'"
   ]
  },
  {
   "cell_type": "code",
   "execution_count": 5,
   "metadata": {},
   "outputs": [
    {
     "data": {
      "text/plain": [
       "['JC TOMS Assessment Outcomes On Release.xlsx',\n",
       " 'linkedParoleAndTomsData.csv',\n",
       " 'paroleStats.xlsx',\n",
       " 'Stats for PC.xlsx']"
      ]
     },
     "execution_count": 5,
     "metadata": {},
     "output_type": "execute_result"
    }
   ],
   "source": [
    "os.listdir(PATH)"
   ]
  },
  {
   "cell_type": "code",
   "execution_count": 6,
   "metadata": {},
   "outputs": [],
   "source": [
    "# got an utf error, got around it by using engine='python'\n",
    "df = pd.read_csv(f'{PATH}linkedParoleAndTomsData.csv', engine='python',      \\\n",
    "    parse_dates = ['DecisionDate', 'ReceptionDate', 'DischargeDate', 'DateSentenced', \\\n",
    "    'SentenceCommenceDate', 'EarliestReleaseDate', 'MaximumSentenceDate',\n",
    "       'SentenceToMaxSentence'                             \n",
    "                                 ])"
   ]
  },
  {
   "cell_type": "code",
   "execution_count": 7,
   "metadata": {},
   "outputs": [
    {
     "data": {
      "text/html": [
       "<div>\n",
       "<style scoped>\n",
       "    .dataframe tbody tr th:only-of-type {\n",
       "        vertical-align: middle;\n",
       "    }\n",
       "\n",
       "    .dataframe tbody tr th {\n",
       "        vertical-align: top;\n",
       "    }\n",
       "\n",
       "    .dataframe thead th {\n",
       "        text-align: right;\n",
       "    }\n",
       "</style>\n",
       "<table border=\"1\" class=\"dataframe\">\n",
       "  <thead>\n",
       "    <tr style=\"text-align: right;\">\n",
       "      <th></th>\n",
       "      <th>StayID</th>\n",
       "      <th>ALKey</th>\n",
       "      <th>DecisionFY</th>\n",
       "      <th>DecisionDate</th>\n",
       "      <th>TOMS_ID</th>\n",
       "      <th>Ethnicity</th>\n",
       "      <th>MatterType</th>\n",
       "      <th>ReviewType</th>\n",
       "      <th>ReviewReason</th>\n",
       "      <th>ReleaseType</th>\n",
       "      <th>...</th>\n",
       "      <th>ReasonSequence</th>\n",
       "      <th>Reason</th>\n",
       "      <th>ANZSOC_Code</th>\n",
       "      <th>ReceptionDate</th>\n",
       "      <th>DischargeDate</th>\n",
       "      <th>DateSentenced</th>\n",
       "      <th>SentenceCommenceDate</th>\n",
       "      <th>EarliestReleaseDate</th>\n",
       "      <th>MaximumSentenceDate</th>\n",
       "      <th>SentenceToMaxSentence</th>\n",
       "    </tr>\n",
       "  </thead>\n",
       "  <tbody>\n",
       "    <tr>\n",
       "      <th>0</th>\n",
       "      <td>NaN</td>\n",
       "      <td>-0.000991572</td>\n",
       "      <td>2016/17</td>\n",
       "      <td>2017-12-06</td>\n",
       "      <td>NaN</td>\n",
       "      <td>ABORIGINAL</td>\n",
       "      <td>Parole</td>\n",
       "      <td>Parole</td>\n",
       "      <td>Parole Application</td>\n",
       "      <td>Discretionary</td>\n",
       "      <td>...</td>\n",
       "      <td>1</td>\n",
       "      <td>You are not eligible to be released on parole ...</td>\n",
       "      <td>NaN</td>\n",
       "      <td>NaT</td>\n",
       "      <td>NaT</td>\n",
       "      <td>NaT</td>\n",
       "      <td>NaN</td>\n",
       "      <td>NaT</td>\n",
       "      <td>NaT</td>\n",
       "      <td>NaN</td>\n",
       "    </tr>\n",
       "    <tr>\n",
       "      <th>1</th>\n",
       "      <td>NaN</td>\n",
       "      <td>-0.00297619</td>\n",
       "      <td>2015/16</td>\n",
       "      <td>2016-03-18</td>\n",
       "      <td>NaN</td>\n",
       "      <td>ABORIGINAL</td>\n",
       "      <td>Parole</td>\n",
       "      <td>Parole</td>\n",
       "      <td>Parole Application</td>\n",
       "      <td>Discretionary</td>\n",
       "      <td>...</td>\n",
       "      <td>1</td>\n",
       "      <td>On 15 March 2016, you received a sentence of t...</td>\n",
       "      <td>NaN</td>\n",
       "      <td>NaT</td>\n",
       "      <td>NaT</td>\n",
       "      <td>NaT</td>\n",
       "      <td>NaN</td>\n",
       "      <td>NaT</td>\n",
       "      <td>NaT</td>\n",
       "      <td>NaN</td>\n",
       "    </tr>\n",
       "    <tr>\n",
       "      <th>2</th>\n",
       "      <td>NaN</td>\n",
       "      <td>-0.00297619</td>\n",
       "      <td>2015/16</td>\n",
       "      <td>2016-03-18</td>\n",
       "      <td>NaN</td>\n",
       "      <td>ABORIGINAL</td>\n",
       "      <td>Parole</td>\n",
       "      <td>Parole</td>\n",
       "      <td>Parole Application</td>\n",
       "      <td>Discretionary</td>\n",
       "      <td>...</td>\n",
       "      <td>2</td>\n",
       "      <td>As there is currently no Supervised Release or...</td>\n",
       "      <td>NaN</td>\n",
       "      <td>NaT</td>\n",
       "      <td>NaT</td>\n",
       "      <td>NaT</td>\n",
       "      <td>NaN</td>\n",
       "      <td>NaT</td>\n",
       "      <td>NaT</td>\n",
       "      <td>NaN</td>\n",
       "    </tr>\n",
       "    <tr>\n",
       "      <th>3</th>\n",
       "      <td>NaN</td>\n",
       "      <td>-0.000248016</td>\n",
       "      <td>2015/16</td>\n",
       "      <td>2016-03-06</td>\n",
       "      <td>NaN</td>\n",
       "      <td>ABORIGINAL</td>\n",
       "      <td>Parole</td>\n",
       "      <td>Parole</td>\n",
       "      <td>Parole Application</td>\n",
       "      <td>Discretionary</td>\n",
       "      <td>...</td>\n",
       "      <td>1</td>\n",
       "      <td>Your unmet treatment needs (substance abuse an...</td>\n",
       "      <td>NaN</td>\n",
       "      <td>NaT</td>\n",
       "      <td>NaT</td>\n",
       "      <td>NaT</td>\n",
       "      <td>NaN</td>\n",
       "      <td>NaT</td>\n",
       "      <td>NaT</td>\n",
       "      <td>NaN</td>\n",
       "    </tr>\n",
       "    <tr>\n",
       "      <th>4</th>\n",
       "      <td>NaN</td>\n",
       "      <td>-0.000248016</td>\n",
       "      <td>2015/16</td>\n",
       "      <td>2016-03-06</td>\n",
       "      <td>NaN</td>\n",
       "      <td>ABORIGINAL</td>\n",
       "      <td>Parole</td>\n",
       "      <td>Parole</td>\n",
       "      <td>Parole Application</td>\n",
       "      <td>Discretionary</td>\n",
       "      <td>...</td>\n",
       "      <td>2</td>\n",
       "      <td>An extensive criminal history including violen...</td>\n",
       "      <td>NaN</td>\n",
       "      <td>NaT</td>\n",
       "      <td>NaT</td>\n",
       "      <td>NaT</td>\n",
       "      <td>NaN</td>\n",
       "      <td>NaT</td>\n",
       "      <td>NaT</td>\n",
       "      <td>NaN</td>\n",
       "    </tr>\n",
       "  </tbody>\n",
       "</table>\n",
       "<p>5 rows × 23 columns</p>\n",
       "</div>"
      ],
      "text/plain": [
       "  StayID         ALKey DecisionFY DecisionDate TOMS_ID   Ethnicity MatterType  \\\n",
       "0    NaN  -0.000991572    2016/17   2017-12-06     NaN  ABORIGINAL     Parole   \n",
       "1    NaN   -0.00297619    2015/16   2016-03-18     NaN  ABORIGINAL     Parole   \n",
       "2    NaN   -0.00297619    2015/16   2016-03-18     NaN  ABORIGINAL     Parole   \n",
       "3    NaN  -0.000248016    2015/16   2016-03-06     NaN  ABORIGINAL     Parole   \n",
       "4    NaN  -0.000248016    2015/16   2016-03-06     NaN  ABORIGINAL     Parole   \n",
       "\n",
       "  ReviewType        ReviewReason    ReleaseType          ...           \\\n",
       "0     Parole  Parole Application  Discretionary          ...            \n",
       "1     Parole  Parole Application  Discretionary          ...            \n",
       "2     Parole  Parole Application  Discretionary          ...            \n",
       "3     Parole  Parole Application  Discretionary          ...            \n",
       "4     Parole  Parole Application  Discretionary          ...            \n",
       "\n",
       "   ReasonSequence                                             Reason  \\\n",
       "0               1  You are not eligible to be released on parole ...   \n",
       "1               1  On 15 March 2016, you received a sentence of t...   \n",
       "2               2  As there is currently no Supervised Release or...   \n",
       "3               1  Your unmet treatment needs (substance abuse an...   \n",
       "4               2  An extensive criminal history including violen...   \n",
       "\n",
       "  ANZSOC_Code  ReceptionDate DischargeDate  DateSentenced  \\\n",
       "0         NaN            NaT           NaT            NaT   \n",
       "1         NaN            NaT           NaT            NaT   \n",
       "2         NaN            NaT           NaT            NaT   \n",
       "3         NaN            NaT           NaT            NaT   \n",
       "4         NaN            NaT           NaT            NaT   \n",
       "\n",
       "  SentenceCommenceDate EarliestReleaseDate MaximumSentenceDate  \\\n",
       "0                  NaN                 NaT                 NaT   \n",
       "1                  NaN                 NaT                 NaT   \n",
       "2                  NaN                 NaT                 NaT   \n",
       "3                  NaN                 NaT                 NaT   \n",
       "4                  NaN                 NaT                 NaT   \n",
       "\n",
       "  SentenceToMaxSentence  \n",
       "0                   NaN  \n",
       "1                   NaN  \n",
       "2                   NaN  \n",
       "3                   NaN  \n",
       "4                   NaN  \n",
       "\n",
       "[5 rows x 23 columns]"
      ]
     },
     "execution_count": 7,
     "metadata": {},
     "output_type": "execute_result"
    }
   ],
   "source": [
    "df.head()"
   ]
  },
  {
   "cell_type": "code",
   "execution_count": 9,
   "metadata": {},
   "outputs": [
    {
     "data": {
      "text/html": [
       "<div>\n",
       "<style scoped>\n",
       "    .dataframe tbody tr th:only-of-type {\n",
       "        vertical-align: middle;\n",
       "    }\n",
       "\n",
       "    .dataframe tbody tr th {\n",
       "        vertical-align: top;\n",
       "    }\n",
       "\n",
       "    .dataframe thead th {\n",
       "        text-align: right;\n",
       "    }\n",
       "</style>\n",
       "<table border=\"1\" class=\"dataframe\">\n",
       "  <thead>\n",
       "    <tr style=\"text-align: right;\">\n",
       "      <th></th>\n",
       "      <th>StayID</th>\n",
       "      <th>ALKey</th>\n",
       "      <th>DecisionFY</th>\n",
       "      <th>TOMS_ID</th>\n",
       "      <th>Ethnicity</th>\n",
       "      <th>MatterType</th>\n",
       "      <th>ReviewType</th>\n",
       "      <th>ReviewReason</th>\n",
       "      <th>ReleaseType</th>\n",
       "      <th>ReviewSequence</th>\n",
       "      <th>...</th>\n",
       "      <th>ReasonSequence</th>\n",
       "      <th>Reason</th>\n",
       "      <th>ANZSOC_Code</th>\n",
       "      <th>ReceptionDate</th>\n",
       "      <th>DischargeDate</th>\n",
       "      <th>DateSentenced</th>\n",
       "      <th>SentenceCommenceDate</th>\n",
       "      <th>EarliestReleaseDate</th>\n",
       "      <th>MaximumSentenceDate</th>\n",
       "      <th>SentenceToMaxSentence</th>\n",
       "    </tr>\n",
       "    <tr>\n",
       "      <th>DecisionDate</th>\n",
       "      <th></th>\n",
       "      <th></th>\n",
       "      <th></th>\n",
       "      <th></th>\n",
       "      <th></th>\n",
       "      <th></th>\n",
       "      <th></th>\n",
       "      <th></th>\n",
       "      <th></th>\n",
       "      <th></th>\n",
       "      <th></th>\n",
       "      <th></th>\n",
       "      <th></th>\n",
       "      <th></th>\n",
       "      <th></th>\n",
       "      <th></th>\n",
       "      <th></th>\n",
       "      <th></th>\n",
       "      <th></th>\n",
       "      <th></th>\n",
       "      <th></th>\n",
       "    </tr>\n",
       "  </thead>\n",
       "  <tbody>\n",
       "    <tr>\n",
       "      <th>2017-12-06</th>\n",
       "      <td>NaN</td>\n",
       "      <td>-0.000991572</td>\n",
       "      <td>2016/17</td>\n",
       "      <td>NaN</td>\n",
       "      <td>ABORIGINAL</td>\n",
       "      <td>Parole</td>\n",
       "      <td>Parole</td>\n",
       "      <td>Parole Application</td>\n",
       "      <td>Discretionary</td>\n",
       "      <td>1</td>\n",
       "      <td>...</td>\n",
       "      <td>1</td>\n",
       "      <td>You are not eligible to be released on parole ...</td>\n",
       "      <td>NaN</td>\n",
       "      <td>NaT</td>\n",
       "      <td>NaT</td>\n",
       "      <td>NaT</td>\n",
       "      <td>NaN</td>\n",
       "      <td>NaT</td>\n",
       "      <td>NaT</td>\n",
       "      <td>NaN</td>\n",
       "    </tr>\n",
       "    <tr>\n",
       "      <th>2016-03-18</th>\n",
       "      <td>NaN</td>\n",
       "      <td>-0.00297619</td>\n",
       "      <td>2015/16</td>\n",
       "      <td>NaN</td>\n",
       "      <td>ABORIGINAL</td>\n",
       "      <td>Parole</td>\n",
       "      <td>Parole</td>\n",
       "      <td>Parole Application</td>\n",
       "      <td>Discretionary</td>\n",
       "      <td>1</td>\n",
       "      <td>...</td>\n",
       "      <td>1</td>\n",
       "      <td>On 15 March 2016, you received a sentence of t...</td>\n",
       "      <td>NaN</td>\n",
       "      <td>NaT</td>\n",
       "      <td>NaT</td>\n",
       "      <td>NaT</td>\n",
       "      <td>NaN</td>\n",
       "      <td>NaT</td>\n",
       "      <td>NaT</td>\n",
       "      <td>NaN</td>\n",
       "    </tr>\n",
       "    <tr>\n",
       "      <th>2016-03-18</th>\n",
       "      <td>NaN</td>\n",
       "      <td>-0.00297619</td>\n",
       "      <td>2015/16</td>\n",
       "      <td>NaN</td>\n",
       "      <td>ABORIGINAL</td>\n",
       "      <td>Parole</td>\n",
       "      <td>Parole</td>\n",
       "      <td>Parole Application</td>\n",
       "      <td>Discretionary</td>\n",
       "      <td>1</td>\n",
       "      <td>...</td>\n",
       "      <td>2</td>\n",
       "      <td>As there is currently no Supervised Release or...</td>\n",
       "      <td>NaN</td>\n",
       "      <td>NaT</td>\n",
       "      <td>NaT</td>\n",
       "      <td>NaT</td>\n",
       "      <td>NaN</td>\n",
       "      <td>NaT</td>\n",
       "      <td>NaT</td>\n",
       "      <td>NaN</td>\n",
       "    </tr>\n",
       "    <tr>\n",
       "      <th>2016-03-06</th>\n",
       "      <td>NaN</td>\n",
       "      <td>-0.000248016</td>\n",
       "      <td>2015/16</td>\n",
       "      <td>NaN</td>\n",
       "      <td>ABORIGINAL</td>\n",
       "      <td>Parole</td>\n",
       "      <td>Parole</td>\n",
       "      <td>Parole Application</td>\n",
       "      <td>Discretionary</td>\n",
       "      <td>2</td>\n",
       "      <td>...</td>\n",
       "      <td>1</td>\n",
       "      <td>Your unmet treatment needs (substance abuse an...</td>\n",
       "      <td>NaN</td>\n",
       "      <td>NaT</td>\n",
       "      <td>NaT</td>\n",
       "      <td>NaT</td>\n",
       "      <td>NaN</td>\n",
       "      <td>NaT</td>\n",
       "      <td>NaT</td>\n",
       "      <td>NaN</td>\n",
       "    </tr>\n",
       "    <tr>\n",
       "      <th>2016-03-06</th>\n",
       "      <td>NaN</td>\n",
       "      <td>-0.000248016</td>\n",
       "      <td>2015/16</td>\n",
       "      <td>NaN</td>\n",
       "      <td>ABORIGINAL</td>\n",
       "      <td>Parole</td>\n",
       "      <td>Parole</td>\n",
       "      <td>Parole Application</td>\n",
       "      <td>Discretionary</td>\n",
       "      <td>2</td>\n",
       "      <td>...</td>\n",
       "      <td>2</td>\n",
       "      <td>An extensive criminal history including violen...</td>\n",
       "      <td>NaN</td>\n",
       "      <td>NaT</td>\n",
       "      <td>NaT</td>\n",
       "      <td>NaT</td>\n",
       "      <td>NaN</td>\n",
       "      <td>NaT</td>\n",
       "      <td>NaT</td>\n",
       "      <td>NaN</td>\n",
       "    </tr>\n",
       "  </tbody>\n",
       "</table>\n",
       "<p>5 rows × 22 columns</p>\n",
       "</div>"
      ],
      "text/plain": [
       "             StayID         ALKey DecisionFY TOMS_ID   Ethnicity MatterType  \\\n",
       "DecisionDate                                                                  \n",
       "2017-12-06      NaN  -0.000991572    2016/17     NaN  ABORIGINAL     Parole   \n",
       "2016-03-18      NaN   -0.00297619    2015/16     NaN  ABORIGINAL     Parole   \n",
       "2016-03-18      NaN   -0.00297619    2015/16     NaN  ABORIGINAL     Parole   \n",
       "2016-03-06      NaN  -0.000248016    2015/16     NaN  ABORIGINAL     Parole   \n",
       "2016-03-06      NaN  -0.000248016    2015/16     NaN  ABORIGINAL     Parole   \n",
       "\n",
       "             ReviewType        ReviewReason    ReleaseType  ReviewSequence  \\\n",
       "DecisionDate                                                                 \n",
       "2017-12-06       Parole  Parole Application  Discretionary               1   \n",
       "2016-03-18       Parole  Parole Application  Discretionary               1   \n",
       "2016-03-18       Parole  Parole Application  Discretionary               1   \n",
       "2016-03-06       Parole  Parole Application  Discretionary               2   \n",
       "2016-03-06       Parole  Parole Application  Discretionary               2   \n",
       "\n",
       "                      ...          ReasonSequence  \\\n",
       "DecisionDate          ...                           \n",
       "2017-12-06            ...                       1   \n",
       "2016-03-18            ...                       1   \n",
       "2016-03-18            ...                       2   \n",
       "2016-03-06            ...                       1   \n",
       "2016-03-06            ...                       2   \n",
       "\n",
       "                                                         Reason  ANZSOC_Code  \\\n",
       "DecisionDate                                                                   \n",
       "2017-12-06    You are not eligible to be released on parole ...          NaN   \n",
       "2016-03-18    On 15 March 2016, you received a sentence of t...          NaN   \n",
       "2016-03-18    As there is currently no Supervised Release or...          NaN   \n",
       "2016-03-06    Your unmet treatment needs (substance abuse an...          NaN   \n",
       "2016-03-06    An extensive criminal history including violen...          NaN   \n",
       "\n",
       "             ReceptionDate  DischargeDate DateSentenced SentenceCommenceDate  \\\n",
       "DecisionDate                                                                   \n",
       "2017-12-06             NaT            NaT           NaT                  NaN   \n",
       "2016-03-18             NaT            NaT           NaT                  NaN   \n",
       "2016-03-18             NaT            NaT           NaT                  NaN   \n",
       "2016-03-06             NaT            NaT           NaT                  NaN   \n",
       "2016-03-06             NaT            NaT           NaT                  NaN   \n",
       "\n",
       "             EarliestReleaseDate MaximumSentenceDate SentenceToMaxSentence  \n",
       "DecisionDate                                                                \n",
       "2017-12-06                   NaT                 NaT                   NaN  \n",
       "2016-03-18                   NaT                 NaT                   NaN  \n",
       "2016-03-18                   NaT                 NaT                   NaN  \n",
       "2016-03-06                   NaT                 NaT                   NaN  \n",
       "2016-03-06                   NaT                 NaT                   NaN  \n",
       "\n",
       "[5 rows x 22 columns]"
      ]
     },
     "execution_count": 9,
     "metadata": {},
     "output_type": "execute_result"
    }
   ],
   "source": [
    "df.set_index('DecisionDate').head()"
   ]
  },
  {
   "cell_type": "code",
   "execution_count": 10,
   "metadata": {},
   "outputs": [
    {
     "data": {
      "text/html": [
       "<div>\n",
       "<style scoped>\n",
       "    .dataframe tbody tr th:only-of-type {\n",
       "        vertical-align: middle;\n",
       "    }\n",
       "\n",
       "    .dataframe tbody tr th {\n",
       "        vertical-align: top;\n",
       "    }\n",
       "\n",
       "    .dataframe thead th {\n",
       "        text-align: right;\n",
       "    }\n",
       "</style>\n",
       "<table border=\"1\" class=\"dataframe\">\n",
       "  <thead>\n",
       "    <tr style=\"text-align: right;\">\n",
       "      <th></th>\n",
       "      <th>ReviewSequence</th>\n",
       "      <th>ReasonSequence</th>\n",
       "      <th>ANZSOC_Code</th>\n",
       "      <th>SentenceToMaxSentence</th>\n",
       "    </tr>\n",
       "  </thead>\n",
       "  <tbody>\n",
       "    <tr>\n",
       "      <th>count</th>\n",
       "      <td>74136.000000</td>\n",
       "      <td>74136.000000</td>\n",
       "      <td>74065.000000</td>\n",
       "      <td>74035.000000</td>\n",
       "    </tr>\n",
       "    <tr>\n",
       "      <th>mean</th>\n",
       "      <td>1.223117</td>\n",
       "      <td>2.891793</td>\n",
       "      <td>663.605131</td>\n",
       "      <td>653.699102</td>\n",
       "    </tr>\n",
       "    <tr>\n",
       "      <th>std</th>\n",
       "      <td>0.691491</td>\n",
       "      <td>1.647150</td>\n",
       "      <td>403.558874</td>\n",
       "      <td>577.707543</td>\n",
       "    </tr>\n",
       "    <tr>\n",
       "      <th>min</th>\n",
       "      <td>1.000000</td>\n",
       "      <td>1.000000</td>\n",
       "      <td>111.000000</td>\n",
       "      <td>-309.000000</td>\n",
       "    </tr>\n",
       "    <tr>\n",
       "      <th>25%</th>\n",
       "      <td>1.000000</td>\n",
       "      <td>2.000000</td>\n",
       "      <td>213.000000</td>\n",
       "      <td>284.000000</td>\n",
       "    </tr>\n",
       "    <tr>\n",
       "      <th>50%</th>\n",
       "      <td>1.000000</td>\n",
       "      <td>3.000000</td>\n",
       "      <td>612.000000</td>\n",
       "      <td>454.000000</td>\n",
       "    </tr>\n",
       "    <tr>\n",
       "      <th>75%</th>\n",
       "      <td>1.000000</td>\n",
       "      <td>4.000000</td>\n",
       "      <td>1021.000000</td>\n",
       "      <td>823.000000</td>\n",
       "    </tr>\n",
       "    <tr>\n",
       "      <th>max</th>\n",
       "      <td>12.000000</td>\n",
       "      <td>15.000000</td>\n",
       "      <td>1694.000000</td>\n",
       "      <td>7264.000000</td>\n",
       "    </tr>\n",
       "  </tbody>\n",
       "</table>\n",
       "</div>"
      ],
      "text/plain": [
       "       ReviewSequence  ReasonSequence   ANZSOC_Code  SentenceToMaxSentence\n",
       "count    74136.000000    74136.000000  74065.000000           74035.000000\n",
       "mean         1.223117        2.891793    663.605131             653.699102\n",
       "std          0.691491        1.647150    403.558874             577.707543\n",
       "min          1.000000        1.000000    111.000000            -309.000000\n",
       "25%          1.000000        2.000000    213.000000             284.000000\n",
       "50%          1.000000        3.000000    612.000000             454.000000\n",
       "75%          1.000000        4.000000   1021.000000             823.000000\n",
       "max         12.000000       15.000000   1694.000000            7264.000000"
      ]
     },
     "execution_count": 10,
     "metadata": {},
     "output_type": "execute_result"
    }
   ],
   "source": [
    "df.describe()"
   ]
  },
  {
   "cell_type": "markdown",
   "metadata": {},
   "source": [
    "### Missing data"
   ]
  },
  {
   "cell_type": "code",
   "execution_count": 11,
   "metadata": {},
   "outputs": [],
   "source": [
    "# get the number of missing data points per column\n",
    "missing_value_count = df.isnull().sum()"
   ]
  },
  {
   "cell_type": "code",
   "execution_count": 13,
   "metadata": {},
   "outputs": [
    {
     "data": {
      "text/plain": [
       "EarliestReleaseDate      14014\n",
       "DischargeDate             4018\n",
       "EED                       1483\n",
       "MaximumSentenceDate        101\n",
       "SentenceToMaxSentence      101\n",
       "dtype: int64"
      ]
     },
     "execution_count": 13,
     "metadata": {},
     "output_type": "execute_result"
    }
   ],
   "source": [
    "# look at the number of missing values\n",
    "missing_value_count.sort_values(ascending = False).head()"
   ]
  },
  {
   "cell_type": "code",
   "execution_count": 14,
   "metadata": {},
   "outputs": [
    {
     "data": {
      "text/plain": [
       "(74136, 23)"
      ]
     },
     "execution_count": 14,
     "metadata": {},
     "output_type": "execute_result"
    }
   ],
   "source": [
    "df.shape"
   ]
  },
  {
   "cell_type": "code",
   "execution_count": 15,
   "metadata": {},
   "outputs": [
    {
     "data": {
      "text/plain": [
       "1.1778587883138392"
      ]
     },
     "execution_count": 15,
     "metadata": {},
     "output_type": "execute_result"
    }
   ],
   "source": [
    "# How many total missing values do we have?\n",
    "total_cells = np.product(df.shape)\n",
    "total_missing = missing_value_count.sum()\n",
    "\n",
    "# percent of data that is missing\n",
    "(total_missing / total_cells) * 100"
   ]
  },
  {
   "cell_type": "code",
   "execution_count": 16,
   "metadata": {},
   "outputs": [],
   "source": [
    "# remove all columns with at least one missing value\n",
    "# This may be extreme, as I need the ANZSOC codes and only 71 are missing\n",
    "# df.dropna(axis=1, inplace = True)\n",
    "# Try axis =0, to delete rows\n",
    "df.dropna(axis=0, inplace = True)"
   ]
  },
  {
   "cell_type": "code",
   "execution_count": 17,
   "metadata": {},
   "outputs": [
    {
     "data": {
      "text/plain": [
       "False"
      ]
     },
     "execution_count": 17,
     "metadata": {},
     "output_type": "execute_result"
    }
   ],
   "source": [
    "# Note about 20k rows got deleted\n",
    "df.isnull().values.any()"
   ]
  },
  {
   "cell_type": "code",
   "execution_count": 18,
   "metadata": {},
   "outputs": [],
   "source": [
    "# Convert ANZSOC Code to int as was appearing as float\n",
    "df['ANZSOC_Code'] = df['ANZSOC_Code'].astype(int)\n",
    "df['SentenceToMaxSentence'] = df['SentenceToMaxSentence'].astype(int)"
   ]
  },
  {
   "cell_type": "code",
   "execution_count": 19,
   "metadata": {},
   "outputs": [
    {
     "data": {
      "text/html": [
       "<div>\n",
       "<style scoped>\n",
       "    .dataframe tbody tr th:only-of-type {\n",
       "        vertical-align: middle;\n",
       "    }\n",
       "\n",
       "    .dataframe tbody tr th {\n",
       "        vertical-align: top;\n",
       "    }\n",
       "\n",
       "    .dataframe thead th {\n",
       "        text-align: right;\n",
       "    }\n",
       "</style>\n",
       "<table border=\"1\" class=\"dataframe\">\n",
       "  <thead>\n",
       "    <tr style=\"text-align: right;\">\n",
       "      <th></th>\n",
       "      <th>StayID</th>\n",
       "      <th>ALKey</th>\n",
       "      <th>DecisionFY</th>\n",
       "      <th>DecisionDate</th>\n",
       "      <th>TOMS_ID</th>\n",
       "      <th>Ethnicity</th>\n",
       "      <th>MatterType</th>\n",
       "      <th>ReviewType</th>\n",
       "      <th>ReviewReason</th>\n",
       "      <th>ReleaseType</th>\n",
       "      <th>...</th>\n",
       "      <th>ReasonSequence</th>\n",
       "      <th>Reason</th>\n",
       "      <th>ANZSOC_Code</th>\n",
       "      <th>ReceptionDate</th>\n",
       "      <th>DischargeDate</th>\n",
       "      <th>DateSentenced</th>\n",
       "      <th>SentenceCommenceDate</th>\n",
       "      <th>EarliestReleaseDate</th>\n",
       "      <th>MaximumSentenceDate</th>\n",
       "      <th>SentenceToMaxSentence</th>\n",
       "    </tr>\n",
       "  </thead>\n",
       "  <tbody>\n",
       "    <tr>\n",
       "      <th>71</th>\n",
       "      <td>0G28H7LU60WADZ0H</td>\n",
       "      <td>H0841768-18/10/2010</td>\n",
       "      <td>2010/11</td>\n",
       "      <td>2010-10-18</td>\n",
       "      <td>H0841768</td>\n",
       "      <td>NON ABORIGINAL</td>\n",
       "      <td>Parole</td>\n",
       "      <td>Parole</td>\n",
       "      <td>Parole Application</td>\n",
       "      <td>Discretionary</td>\n",
       "      <td>...</td>\n",
       "      <td>1</td>\n",
       "      <td>Extensive criminal history since the thirteen ...</td>\n",
       "      <td>1021</td>\n",
       "      <td>2000-06-10</td>\n",
       "      <td>2012-03-06</td>\n",
       "      <td>2002-07-25</td>\n",
       "      <td>4/10/2000</td>\n",
       "      <td>2012-03-06</td>\n",
       "      <td>2018-03-04</td>\n",
       "      <td>5732</td>\n",
       "    </tr>\n",
       "    <tr>\n",
       "      <th>72</th>\n",
       "      <td>0G28H7LU60WADZ0H</td>\n",
       "      <td>H0841768-18/10/2010</td>\n",
       "      <td>2010/11</td>\n",
       "      <td>2010-10-18</td>\n",
       "      <td>H0841768</td>\n",
       "      <td>NON ABORIGINAL</td>\n",
       "      <td>Parole</td>\n",
       "      <td>Parole</td>\n",
       "      <td>Parole Application</td>\n",
       "      <td>Discretionary</td>\n",
       "      <td>...</td>\n",
       "      <td>2</td>\n",
       "      <td>Serious drug dealing offences place the commun...</td>\n",
       "      <td>1021</td>\n",
       "      <td>2000-06-10</td>\n",
       "      <td>2012-03-06</td>\n",
       "      <td>2002-07-25</td>\n",
       "      <td>4/10/2000</td>\n",
       "      <td>2012-03-06</td>\n",
       "      <td>2018-03-04</td>\n",
       "      <td>5732</td>\n",
       "    </tr>\n",
       "    <tr>\n",
       "      <th>73</th>\n",
       "      <td>0G28H7LU60WADZ0H</td>\n",
       "      <td>H0841768-18/10/2010</td>\n",
       "      <td>2010/11</td>\n",
       "      <td>2010-10-18</td>\n",
       "      <td>H0841768</td>\n",
       "      <td>NON ABORIGINAL</td>\n",
       "      <td>Parole</td>\n",
       "      <td>Parole</td>\n",
       "      <td>Parole Application</td>\n",
       "      <td>Discretionary</td>\n",
       "      <td>...</td>\n",
       "      <td>3</td>\n",
       "      <td>Breached Commonwealth parole by re-offending i...</td>\n",
       "      <td>1021</td>\n",
       "      <td>2000-06-10</td>\n",
       "      <td>2012-03-06</td>\n",
       "      <td>2002-07-25</td>\n",
       "      <td>4/10/2000</td>\n",
       "      <td>2012-03-06</td>\n",
       "      <td>2018-03-04</td>\n",
       "      <td>5732</td>\n",
       "    </tr>\n",
       "    <tr>\n",
       "      <th>74</th>\n",
       "      <td>0G28H8NHT0WADZ0H</td>\n",
       "      <td>C0922538-17/08/2012</td>\n",
       "      <td>2012/13</td>\n",
       "      <td>2012-08-17</td>\n",
       "      <td>C0922538</td>\n",
       "      <td>NON ABORIGINAL</td>\n",
       "      <td>Parole</td>\n",
       "      <td>Parole</td>\n",
       "      <td>Re-application</td>\n",
       "      <td>Discretionary</td>\n",
       "      <td>...</td>\n",
       "      <td>1</td>\n",
       "      <td>Repeated penetrative sex offences over a lengt...</td>\n",
       "      <td>311</td>\n",
       "      <td>1999-11-30</td>\n",
       "      <td>2013-08-09</td>\n",
       "      <td>2000-06-20</td>\n",
       "      <td>10/05/2000</td>\n",
       "      <td>2013-08-09</td>\n",
       "      <td>2020-09-05</td>\n",
       "      <td>7264</td>\n",
       "    </tr>\n",
       "    <tr>\n",
       "      <th>75</th>\n",
       "      <td>0G28H8NHT0WADZ0H</td>\n",
       "      <td>C0922538-17/08/2012</td>\n",
       "      <td>2012/13</td>\n",
       "      <td>2012-08-17</td>\n",
       "      <td>C0922538</td>\n",
       "      <td>NON ABORIGINAL</td>\n",
       "      <td>Parole</td>\n",
       "      <td>Parole</td>\n",
       "      <td>Re-application</td>\n",
       "      <td>Discretionary</td>\n",
       "      <td>...</td>\n",
       "      <td>2</td>\n",
       "      <td>Your minimal participation in Cognitive Skills...</td>\n",
       "      <td>311</td>\n",
       "      <td>1999-11-30</td>\n",
       "      <td>2013-08-09</td>\n",
       "      <td>2000-06-20</td>\n",
       "      <td>10/05/2000</td>\n",
       "      <td>2013-08-09</td>\n",
       "      <td>2020-09-05</td>\n",
       "      <td>7264</td>\n",
       "    </tr>\n",
       "  </tbody>\n",
       "</table>\n",
       "<p>5 rows × 23 columns</p>\n",
       "</div>"
      ],
      "text/plain": [
       "              StayID                ALKey DecisionFY DecisionDate   TOMS_ID  \\\n",
       "71  0G28H7LU60WADZ0H  H0841768-18/10/2010    2010/11   2010-10-18  H0841768   \n",
       "72  0G28H7LU60WADZ0H  H0841768-18/10/2010    2010/11   2010-10-18  H0841768   \n",
       "73  0G28H7LU60WADZ0H  H0841768-18/10/2010    2010/11   2010-10-18  H0841768   \n",
       "74  0G28H8NHT0WADZ0H  C0922538-17/08/2012    2012/13   2012-08-17  C0922538   \n",
       "75  0G28H8NHT0WADZ0H  C0922538-17/08/2012    2012/13   2012-08-17  C0922538   \n",
       "\n",
       "         Ethnicity MatterType ReviewType        ReviewReason    ReleaseType  \\\n",
       "71  NON ABORIGINAL     Parole     Parole  Parole Application  Discretionary   \n",
       "72  NON ABORIGINAL     Parole     Parole  Parole Application  Discretionary   \n",
       "73  NON ABORIGINAL     Parole     Parole  Parole Application  Discretionary   \n",
       "74  NON ABORIGINAL     Parole     Parole      Re-application  Discretionary   \n",
       "75  NON ABORIGINAL     Parole     Parole      Re-application  Discretionary   \n",
       "\n",
       "            ...           ReasonSequence  \\\n",
       "71          ...                        1   \n",
       "72          ...                        2   \n",
       "73          ...                        3   \n",
       "74          ...                        1   \n",
       "75          ...                        2   \n",
       "\n",
       "                                               Reason ANZSOC_Code  \\\n",
       "71  Extensive criminal history since the thirteen ...        1021   \n",
       "72  Serious drug dealing offences place the commun...        1021   \n",
       "73  Breached Commonwealth parole by re-offending i...        1021   \n",
       "74  Repeated penetrative sex offences over a lengt...         311   \n",
       "75  Your minimal participation in Cognitive Skills...         311   \n",
       "\n",
       "    ReceptionDate DischargeDate  DateSentenced SentenceCommenceDate  \\\n",
       "71     2000-06-10    2012-03-06     2002-07-25            4/10/2000   \n",
       "72     2000-06-10    2012-03-06     2002-07-25            4/10/2000   \n",
       "73     2000-06-10    2012-03-06     2002-07-25            4/10/2000   \n",
       "74     1999-11-30    2013-08-09     2000-06-20           10/05/2000   \n",
       "75     1999-11-30    2013-08-09     2000-06-20           10/05/2000   \n",
       "\n",
       "   EarliestReleaseDate MaximumSentenceDate SentenceToMaxSentence  \n",
       "71          2012-03-06          2018-03-04                  5732  \n",
       "72          2012-03-06          2018-03-04                  5732  \n",
       "73          2012-03-06          2018-03-04                  5732  \n",
       "74          2013-08-09          2020-09-05                  7264  \n",
       "75          2013-08-09          2020-09-05                  7264  \n",
       "\n",
       "[5 rows x 23 columns]"
      ]
     },
     "execution_count": 19,
     "metadata": {},
     "output_type": "execute_result"
    }
   ],
   "source": [
    "df.head()"
   ]
  },
  {
   "cell_type": "code",
   "execution_count": 20,
   "metadata": {},
   "outputs": [
    {
     "data": {
      "text/html": [
       "<div>\n",
       "<style scoped>\n",
       "    .dataframe tbody tr th:only-of-type {\n",
       "        vertical-align: middle;\n",
       "    }\n",
       "\n",
       "    .dataframe tbody tr th {\n",
       "        vertical-align: top;\n",
       "    }\n",
       "\n",
       "    .dataframe thead th {\n",
       "        text-align: right;\n",
       "    }\n",
       "</style>\n",
       "<table border=\"1\" class=\"dataframe\">\n",
       "  <thead>\n",
       "    <tr style=\"text-align: right;\">\n",
       "      <th></th>\n",
       "      <th>StayID</th>\n",
       "      <th>ALKey</th>\n",
       "      <th>DecisionFY</th>\n",
       "      <th>DecisionDate</th>\n",
       "      <th>TOMS_ID</th>\n",
       "      <th>Ethnicity</th>\n",
       "      <th>MatterType</th>\n",
       "      <th>ReviewType</th>\n",
       "      <th>ReviewReason</th>\n",
       "      <th>ReleaseType</th>\n",
       "      <th>...</th>\n",
       "      <th>ReasonSequence</th>\n",
       "      <th>Reason</th>\n",
       "      <th>ANZSOC_Code</th>\n",
       "      <th>ReceptionDate</th>\n",
       "      <th>DischargeDate</th>\n",
       "      <th>DateSentenced</th>\n",
       "      <th>SentenceCommenceDate</th>\n",
       "      <th>EarliestReleaseDate</th>\n",
       "      <th>MaximumSentenceDate</th>\n",
       "      <th>SentenceToMaxSentence</th>\n",
       "    </tr>\n",
       "  </thead>\n",
       "  <tbody>\n",
       "    <tr>\n",
       "      <th>3931</th>\n",
       "      <td>0KIZBBVBY0WADZ0K</td>\n",
       "      <td>B1073836-1/07/2010</td>\n",
       "      <td>2010/11</td>\n",
       "      <td>2010-01-07</td>\n",
       "      <td>B1073836</td>\n",
       "      <td>ABORIGINAL</td>\n",
       "      <td>Parole</td>\n",
       "      <td>Parole</td>\n",
       "      <td>Parole Application</td>\n",
       "      <td>Discretionary</td>\n",
       "      <td>...</td>\n",
       "      <td>1</td>\n",
       "      <td>Serious and violent nature of current offences.</td>\n",
       "      <td>611</td>\n",
       "      <td>2009-01-05</td>\n",
       "      <td>2011-10-31</td>\n",
       "      <td>2009-10-10</td>\n",
       "      <td>1/05/2009</td>\n",
       "      <td>2011-10-31</td>\n",
       "      <td>2011-10-31</td>\n",
       "      <td>752</td>\n",
       "    </tr>\n",
       "    <tr>\n",
       "      <th>3932</th>\n",
       "      <td>0KIZBBVBY0WADZ0K</td>\n",
       "      <td>B1073836-1/07/2010</td>\n",
       "      <td>2010/11</td>\n",
       "      <td>2010-01-07</td>\n",
       "      <td>B1073836</td>\n",
       "      <td>ABORIGINAL</td>\n",
       "      <td>Parole</td>\n",
       "      <td>Parole</td>\n",
       "      <td>Parole Application</td>\n",
       "      <td>Discretionary</td>\n",
       "      <td>...</td>\n",
       "      <td>2</td>\n",
       "      <td>Extensive criminal history including violence,...</td>\n",
       "      <td>611</td>\n",
       "      <td>2009-01-05</td>\n",
       "      <td>2011-10-31</td>\n",
       "      <td>2009-10-10</td>\n",
       "      <td>1/05/2009</td>\n",
       "      <td>2011-10-31</td>\n",
       "      <td>2011-10-31</td>\n",
       "      <td>752</td>\n",
       "    </tr>\n",
       "    <tr>\n",
       "      <th>3933</th>\n",
       "      <td>0KIZBBVBY0WADZ0K</td>\n",
       "      <td>B1073836-1/07/2010</td>\n",
       "      <td>2010/11</td>\n",
       "      <td>2010-01-07</td>\n",
       "      <td>B1073836</td>\n",
       "      <td>ABORIGINAL</td>\n",
       "      <td>Parole</td>\n",
       "      <td>Parole</td>\n",
       "      <td>Parole Application</td>\n",
       "      <td>Discretionary</td>\n",
       "      <td>...</td>\n",
       "      <td>3</td>\n",
       "      <td>Entrenched history of poly-substance abuse whi...</td>\n",
       "      <td>611</td>\n",
       "      <td>2009-01-05</td>\n",
       "      <td>2011-10-31</td>\n",
       "      <td>2009-10-10</td>\n",
       "      <td>1/05/2009</td>\n",
       "      <td>2011-10-31</td>\n",
       "      <td>2011-10-31</td>\n",
       "      <td>752</td>\n",
       "    </tr>\n",
       "    <tr>\n",
       "      <th>3934</th>\n",
       "      <td>0KIZBBVBY0WADZ0K</td>\n",
       "      <td>B1073836-1/07/2010</td>\n",
       "      <td>2010/11</td>\n",
       "      <td>2010-01-07</td>\n",
       "      <td>B1073836</td>\n",
       "      <td>ABORIGINAL</td>\n",
       "      <td>Parole</td>\n",
       "      <td>Parole</td>\n",
       "      <td>Parole Application</td>\n",
       "      <td>Discretionary</td>\n",
       "      <td>...</td>\n",
       "      <td>4</td>\n",
       "      <td>Unaddressed offending behaviour (substance abu...</td>\n",
       "      <td>611</td>\n",
       "      <td>2009-01-05</td>\n",
       "      <td>2011-10-31</td>\n",
       "      <td>2009-10-10</td>\n",
       "      <td>1/05/2009</td>\n",
       "      <td>2011-10-31</td>\n",
       "      <td>2011-10-31</td>\n",
       "      <td>752</td>\n",
       "    </tr>\n",
       "    <tr>\n",
       "      <th>3935</th>\n",
       "      <td>0KIZBBVBY0WADZ0K</td>\n",
       "      <td>B1073836-1/07/2010</td>\n",
       "      <td>2010/11</td>\n",
       "      <td>2010-01-07</td>\n",
       "      <td>B1073836</td>\n",
       "      <td>ABORIGINAL</td>\n",
       "      <td>Parole</td>\n",
       "      <td>Parole</td>\n",
       "      <td>Parole Application</td>\n",
       "      <td>Discretionary</td>\n",
       "      <td>...</td>\n",
       "      <td>5</td>\n",
       "      <td>Parole in 2002 and 2003 breached by re-offending.</td>\n",
       "      <td>611</td>\n",
       "      <td>2009-01-05</td>\n",
       "      <td>2011-10-31</td>\n",
       "      <td>2009-10-10</td>\n",
       "      <td>1/05/2009</td>\n",
       "      <td>2011-10-31</td>\n",
       "      <td>2011-10-31</td>\n",
       "      <td>752</td>\n",
       "    </tr>\n",
       "  </tbody>\n",
       "</table>\n",
       "<p>5 rows × 23 columns</p>\n",
       "</div>"
      ],
      "text/plain": [
       "                StayID               ALKey DecisionFY DecisionDate   TOMS_ID  \\\n",
       "3931  0KIZBBVBY0WADZ0K  B1073836-1/07/2010    2010/11   2010-01-07  B1073836   \n",
       "3932  0KIZBBVBY0WADZ0K  B1073836-1/07/2010    2010/11   2010-01-07  B1073836   \n",
       "3933  0KIZBBVBY0WADZ0K  B1073836-1/07/2010    2010/11   2010-01-07  B1073836   \n",
       "3934  0KIZBBVBY0WADZ0K  B1073836-1/07/2010    2010/11   2010-01-07  B1073836   \n",
       "3935  0KIZBBVBY0WADZ0K  B1073836-1/07/2010    2010/11   2010-01-07  B1073836   \n",
       "\n",
       "       Ethnicity MatterType ReviewType        ReviewReason    ReleaseType  \\\n",
       "3931  ABORIGINAL     Parole     Parole  Parole Application  Discretionary   \n",
       "3932  ABORIGINAL     Parole     Parole  Parole Application  Discretionary   \n",
       "3933  ABORIGINAL     Parole     Parole  Parole Application  Discretionary   \n",
       "3934  ABORIGINAL     Parole     Parole  Parole Application  Discretionary   \n",
       "3935  ABORIGINAL     Parole     Parole  Parole Application  Discretionary   \n",
       "\n",
       "              ...           ReasonSequence  \\\n",
       "3931          ...                        1   \n",
       "3932          ...                        2   \n",
       "3933          ...                        3   \n",
       "3934          ...                        4   \n",
       "3935          ...                        5   \n",
       "\n",
       "                                                 Reason ANZSOC_Code  \\\n",
       "3931    Serious and violent nature of current offences.         611   \n",
       "3932  Extensive criminal history including violence,...         611   \n",
       "3933  Entrenched history of poly-substance abuse whi...         611   \n",
       "3934  Unaddressed offending behaviour (substance abu...         611   \n",
       "3935  Parole in 2002 and 2003 breached by re-offending.         611   \n",
       "\n",
       "      ReceptionDate DischargeDate  DateSentenced SentenceCommenceDate  \\\n",
       "3931     2009-01-05    2011-10-31     2009-10-10            1/05/2009   \n",
       "3932     2009-01-05    2011-10-31     2009-10-10            1/05/2009   \n",
       "3933     2009-01-05    2011-10-31     2009-10-10            1/05/2009   \n",
       "3934     2009-01-05    2011-10-31     2009-10-10            1/05/2009   \n",
       "3935     2009-01-05    2011-10-31     2009-10-10            1/05/2009   \n",
       "\n",
       "     EarliestReleaseDate MaximumSentenceDate SentenceToMaxSentence  \n",
       "3931          2011-10-31          2011-10-31                   752  \n",
       "3932          2011-10-31          2011-10-31                   752  \n",
       "3933          2011-10-31          2011-10-31                   752  \n",
       "3934          2011-10-31          2011-10-31                   752  \n",
       "3935          2011-10-31          2011-10-31                   752  \n",
       "\n",
       "[5 rows x 23 columns]"
      ]
     },
     "execution_count": 20,
     "metadata": {},
     "output_type": "execute_result"
    }
   ],
   "source": [
    "# Sort by DecisionDate and TOMS_ID\n",
    "df.sort_values(['DecisionDate','TOMS_ID'], ascending = [True, True]).head()"
   ]
  },
  {
   "cell_type": "code",
   "execution_count": 21,
   "metadata": {},
   "outputs": [
    {
     "data": {
      "text/plain": [
       "(54843, 23)"
      ]
     },
     "execution_count": 21,
     "metadata": {},
     "output_type": "execute_result"
    }
   ],
   "source": [
    "df.shape"
   ]
  },
  {
   "cell_type": "code",
   "execution_count": 22,
   "metadata": {},
   "outputs": [],
   "source": [
    "# Filter for 'Denied Only'\n",
    "mask = (df['Outcome'] == 'Denied')"
   ]
  },
  {
   "cell_type": "code",
   "execution_count": 23,
   "metadata": {},
   "outputs": [],
   "source": [
    "df = df[mask]"
   ]
  },
  {
   "cell_type": "code",
   "execution_count": 24,
   "metadata": {},
   "outputs": [
    {
     "data": {
      "text/plain": [
       "(29632, 23)"
      ]
     },
     "execution_count": 24,
     "metadata": {},
     "output_type": "execute_result"
    }
   ],
   "source": [
    "# By filtering on individuals who were denied parole reduces dataset by approx 25k rows\n",
    "df.shape"
   ]
  },
  {
   "cell_type": "code",
   "execution_count": 25,
   "metadata": {},
   "outputs": [],
   "source": [
    "# Convert the 'Reason' column into a string\n",
    "df['Reason'] = df['Reason'].astype(str, inplace = True)"
   ]
  },
  {
   "cell_type": "code",
   "execution_count": 26,
   "metadata": {},
   "outputs": [],
   "source": [
    "# Create a new DataFrame that is grouped on DecisionDate and TOMS_ID, aggregate the Reasons\n",
    "df2 = pd.DataFrame(df.groupby(['DecisionDate', 'TOMS_ID','ANZSOC_Code','ReceptionDate','DateSentenced','MaximumSentenceDate','SentenceToMaxSentence']).agg({'Reason':lambda x:'| '.join(x)}))"
   ]
  },
  {
   "cell_type": "code",
   "execution_count": 27,
   "metadata": {},
   "outputs": [
    {
     "data": {
      "text/html": [
       "<div>\n",
       "<style scoped>\n",
       "    .dataframe tbody tr th:only-of-type {\n",
       "        vertical-align: middle;\n",
       "    }\n",
       "\n",
       "    .dataframe tbody tr th {\n",
       "        vertical-align: top;\n",
       "    }\n",
       "\n",
       "    .dataframe thead th {\n",
       "        text-align: right;\n",
       "    }\n",
       "</style>\n",
       "<table border=\"1\" class=\"dataframe\">\n",
       "  <thead>\n",
       "    <tr style=\"text-align: right;\">\n",
       "      <th></th>\n",
       "      <th></th>\n",
       "      <th></th>\n",
       "      <th></th>\n",
       "      <th></th>\n",
       "      <th></th>\n",
       "      <th></th>\n",
       "      <th>Reason</th>\n",
       "    </tr>\n",
       "    <tr>\n",
       "      <th>DecisionDate</th>\n",
       "      <th>TOMS_ID</th>\n",
       "      <th>ANZSOC_Code</th>\n",
       "      <th>ReceptionDate</th>\n",
       "      <th>DateSentenced</th>\n",
       "      <th>MaximumSentenceDate</th>\n",
       "      <th>SentenceToMaxSentence</th>\n",
       "      <th></th>\n",
       "    </tr>\n",
       "  </thead>\n",
       "  <tbody>\n",
       "    <tr>\n",
       "      <th rowspan=\"5\" valign=\"top\">2010-01-07</th>\n",
       "      <th>B1073836</th>\n",
       "      <th>611</th>\n",
       "      <th>2009-01-05</th>\n",
       "      <th>2009-10-10</th>\n",
       "      <th>2011-10-31</th>\n",
       "      <th>752</th>\n",
       "      <td>Serious and violent nature of current offences...</td>\n",
       "    </tr>\n",
       "    <tr>\n",
       "      <th>B1354006</th>\n",
       "      <th>212</th>\n",
       "      <th>2010-04-13</th>\n",
       "      <th>2010-06-05</th>\n",
       "      <th>2010-10-13</th>\n",
       "      <th>161</th>\n",
       "      <td>Serious and violent nature of current offence ...</td>\n",
       "    </tr>\n",
       "    <tr>\n",
       "      <th>B1367371</th>\n",
       "      <th>1411</th>\n",
       "      <th>2010-03-17</th>\n",
       "      <th>2010-03-17</th>\n",
       "      <th>2010-12-16</th>\n",
       "      <th>275</th>\n",
       "      <td>Repetitive nature of driving without a licence...</td>\n",
       "    </tr>\n",
       "    <tr>\n",
       "      <th>D1859709</th>\n",
       "      <th>1513</th>\n",
       "      <th>2009-09-15</th>\n",
       "      <th>2009-09-17</th>\n",
       "      <th>2011-06-16</th>\n",
       "      <th>638</th>\n",
       "      <td>Serious and violent nature of current offences...</td>\n",
       "    </tr>\n",
       "    <tr>\n",
       "      <th>E0871348</th>\n",
       "      <th>412</th>\n",
       "      <th>2010-12-01</th>\n",
       "      <th>2010-12-01</th>\n",
       "      <th>2011-11-01</th>\n",
       "      <th>365</th>\n",
       "      <td>Serious nature of current offences of driving ...</td>\n",
       "    </tr>\n",
       "  </tbody>\n",
       "</table>\n",
       "</div>"
      ],
      "text/plain": [
       "                                                                                                                                                    Reason\n",
       "DecisionDate TOMS_ID  ANZSOC_Code ReceptionDate DateSentenced MaximumSentenceDate SentenceToMaxSentence                                                   \n",
       "2010-01-07   B1073836 611         2009-01-05    2009-10-10    2011-10-31          752                    Serious and violent nature of current offences...\n",
       "             B1354006 212         2010-04-13    2010-06-05    2010-10-13          161                    Serious and violent nature of current offence ...\n",
       "             B1367371 1411        2010-03-17    2010-03-17    2010-12-16          275                    Repetitive nature of driving without a licence...\n",
       "             D1859709 1513        2009-09-15    2009-09-17    2011-06-16          638                    Serious and violent nature of current offences...\n",
       "             E0871348 412         2010-12-01    2010-12-01    2011-11-01          365                    Serious nature of current offences of driving ..."
      ]
     },
     "execution_count": 27,
     "metadata": {},
     "output_type": "execute_result"
    }
   ],
   "source": [
    "df2.head()"
   ]
  },
  {
   "cell_type": "code",
   "execution_count": 28,
   "metadata": {},
   "outputs": [
    {
     "data": {
      "text/plain": [
       "(7794, 1)"
      ]
     },
     "execution_count": 28,
     "metadata": {},
     "output_type": "execute_result"
    }
   ],
   "source": [
    "df2.shape"
   ]
  },
  {
   "cell_type": "code",
   "execution_count": 29,
   "metadata": {},
   "outputs": [],
   "source": [
    "# Reset the index so that the DecisionDate is populated throughout the column\n",
    "df2.reset_index(inplace = True)"
   ]
  },
  {
   "cell_type": "code",
   "execution_count": 30,
   "metadata": {},
   "outputs": [
    {
     "data": {
      "text/html": [
       "<div>\n",
       "<style scoped>\n",
       "    .dataframe tbody tr th:only-of-type {\n",
       "        vertical-align: middle;\n",
       "    }\n",
       "\n",
       "    .dataframe tbody tr th {\n",
       "        vertical-align: top;\n",
       "    }\n",
       "\n",
       "    .dataframe thead th {\n",
       "        text-align: right;\n",
       "    }\n",
       "</style>\n",
       "<table border=\"1\" class=\"dataframe\">\n",
       "  <thead>\n",
       "    <tr style=\"text-align: right;\">\n",
       "      <th></th>\n",
       "      <th>DecisionDate</th>\n",
       "      <th>TOMS_ID</th>\n",
       "      <th>ANZSOC_Code</th>\n",
       "      <th>ReceptionDate</th>\n",
       "      <th>DateSentenced</th>\n",
       "      <th>MaximumSentenceDate</th>\n",
       "      <th>SentenceToMaxSentence</th>\n",
       "      <th>Reason</th>\n",
       "    </tr>\n",
       "  </thead>\n",
       "  <tbody>\n",
       "    <tr>\n",
       "      <th>0</th>\n",
       "      <td>2010-01-07</td>\n",
       "      <td>B1073836</td>\n",
       "      <td>611</td>\n",
       "      <td>2009-01-05</td>\n",
       "      <td>2009-10-10</td>\n",
       "      <td>2011-10-31</td>\n",
       "      <td>752</td>\n",
       "      <td>Serious and violent nature of current offences...</td>\n",
       "    </tr>\n",
       "    <tr>\n",
       "      <th>1</th>\n",
       "      <td>2010-01-07</td>\n",
       "      <td>B1354006</td>\n",
       "      <td>212</td>\n",
       "      <td>2010-04-13</td>\n",
       "      <td>2010-06-05</td>\n",
       "      <td>2010-10-13</td>\n",
       "      <td>161</td>\n",
       "      <td>Serious and violent nature of current offence ...</td>\n",
       "    </tr>\n",
       "    <tr>\n",
       "      <th>2</th>\n",
       "      <td>2010-01-07</td>\n",
       "      <td>B1367371</td>\n",
       "      <td>1411</td>\n",
       "      <td>2010-03-17</td>\n",
       "      <td>2010-03-17</td>\n",
       "      <td>2010-12-16</td>\n",
       "      <td>275</td>\n",
       "      <td>Repetitive nature of driving without a licence...</td>\n",
       "    </tr>\n",
       "    <tr>\n",
       "      <th>3</th>\n",
       "      <td>2010-01-07</td>\n",
       "      <td>D1859709</td>\n",
       "      <td>1513</td>\n",
       "      <td>2009-09-15</td>\n",
       "      <td>2009-09-17</td>\n",
       "      <td>2011-06-16</td>\n",
       "      <td>638</td>\n",
       "      <td>Serious and violent nature of current offences...</td>\n",
       "    </tr>\n",
       "    <tr>\n",
       "      <th>4</th>\n",
       "      <td>2010-01-07</td>\n",
       "      <td>E0871348</td>\n",
       "      <td>412</td>\n",
       "      <td>2010-12-01</td>\n",
       "      <td>2010-12-01</td>\n",
       "      <td>2011-11-01</td>\n",
       "      <td>365</td>\n",
       "      <td>Serious nature of current offences of driving ...</td>\n",
       "    </tr>\n",
       "  </tbody>\n",
       "</table>\n",
       "</div>"
      ],
      "text/plain": [
       "  DecisionDate   TOMS_ID  ANZSOC_Code ReceptionDate DateSentenced  \\\n",
       "0   2010-01-07  B1073836          611    2009-01-05    2009-10-10   \n",
       "1   2010-01-07  B1354006          212    2010-04-13    2010-06-05   \n",
       "2   2010-01-07  B1367371         1411    2010-03-17    2010-03-17   \n",
       "3   2010-01-07  D1859709         1513    2009-09-15    2009-09-17   \n",
       "4   2010-01-07  E0871348          412    2010-12-01    2010-12-01   \n",
       "\n",
       "  MaximumSentenceDate  SentenceToMaxSentence  \\\n",
       "0          2011-10-31                    752   \n",
       "1          2010-10-13                    161   \n",
       "2          2010-12-16                    275   \n",
       "3          2011-06-16                    638   \n",
       "4          2011-11-01                    365   \n",
       "\n",
       "                                              Reason  \n",
       "0  Serious and violent nature of current offences...  \n",
       "1  Serious and violent nature of current offence ...  \n",
       "2  Repetitive nature of driving without a licence...  \n",
       "3  Serious and violent nature of current offences...  \n",
       "4  Serious nature of current offences of driving ...  "
      ]
     },
     "execution_count": 30,
     "metadata": {},
     "output_type": "execute_result"
    }
   ],
   "source": [
    "df2.head()"
   ]
  },
  {
   "cell_type": "code",
   "execution_count": 31,
   "metadata": {},
   "outputs": [
    {
     "data": {
      "text/plain": [
       "7794"
      ]
     },
     "execution_count": 31,
     "metadata": {},
     "output_type": "execute_result"
    }
   ],
   "source": [
    "# The count of grouped reasons is 7794\n",
    "df2['Reason'].count()"
   ]
  },
  {
   "cell_type": "code",
   "execution_count": 32,
   "metadata": {},
   "outputs": [],
   "source": [
    "# Logic for separating Deny Release on Parole Reasons into 'Treatment Needs All'\n",
    "df2['Treatment Needs All'] = np.where((df2['Reason'].str.contains(\"treatment need\", case=False, na=False) \\\n",
    "    | df2['Reason'].str.contains(\"extensive criminal\", case=False, na=False)) , 'Y', 'N' )\n",
    "\n",
    "df2['Compliance All'] = np.where(df2['Reason'].str.contains(\"poor\", case=False, na=False), 'Y', 'N' )\n",
    "#poor prison\n",
    "\n",
    "df2['Parole Plan All'] = np.where(df2['Reason'].str.contains(\"release plan\", case=False, na=False), 'Y', 'N' )\n",
    " \n",
    "df2['s10 dr10'] = np.where(df2['Reason'].str.contains(\"Your ineligibility to be released\", case=False, na=False), 'Y', 'N' )\n",
    "\n",
    "df2['Deny Release on Parole All'] = (df2['Treatment Needs All'].apply(lambda x : x =='Y')) | (df2['Compliance All'].apply(lambda x : x =='Y')) \\\n",
    "| (df2['Parole Plan All'].apply(lambda x : x =='Y')) | (df2['s10 dr10'].apply(lambda x : x =='Y'))"
   ]
  },
  {
   "cell_type": "code",
   "execution_count": 33,
   "metadata": {},
   "outputs": [
    {
     "data": {
      "text/plain": [
       "6464"
      ]
     },
     "execution_count": 33,
     "metadata": {},
     "output_type": "execute_result"
    }
   ],
   "source": [
    "df2['Reason'][df2['Treatment Needs All'] == 'Y'].count()"
   ]
  },
  {
   "cell_type": "markdown",
   "metadata": {},
   "source": [
    "### High level text mine"
   ]
  },
  {
   "cell_type": "code",
   "execution_count": 35,
   "metadata": {},
   "outputs": [
    {
     "data": {
      "text/plain": [
       "'Serious and violent nature of current offences.| Extensive criminal history including violence, having offended every year since 1998.| Entrenched history of poly-substance abuse which is directly linked to your offending.| Unaddressed offending behaviour (substance abuse and violence);| Parole in 2002 and 2003 breached by re-offending.| Community Based Order in 2002 and 2009 breached and cancelled by re-offending. Serious and violent nature of current offence committed in a domestic violence si'"
      ]
     },
     "execution_count": 35,
     "metadata": {},
     "output_type": "execute_result"
    }
   ],
   "source": [
    "# Create a string for testing that contains all the reasons\n",
    "reasonJoined = \" \".join(df2['Reason']); reasonJoined[:500]"
   ]
  },
  {
   "cell_type": "code",
   "execution_count": 36,
   "metadata": {},
   "outputs": [],
   "source": [
    "# Make everything lower case\n",
    "reasonJoinedLower = reasonJoined.lower()"
   ]
  },
  {
   "cell_type": "code",
   "execution_count": 37,
   "metadata": {},
   "outputs": [
    {
     "data": {
      "text/plain": [
       "'serious and violent nature of current offences extensive criminal history including violence having offended every year since 1998 entrenched history of polysubstance abuse which is directly linked to your offending unaddressed offending behaviour substance abuse and violence parole in 2002 and 2003 breached by reoffending community based order in 2002 and 2009 breached and cancelled by reoffending serious and violent nature of current offence committed in a domestic violence situation extensive criminal history including domestic violence offending history of domestic violence places community safety at risk entrenched history of substance abuse which is directly linked to your offending and prior program participation has not assisted in addressing unaddressed offending behaviour domestic violence four out of four parole orders between 2004 and 2008 breached or cancelled by reoffending community based order in 2005 cancelled by reoffending intensive supervision order in 2004 cancelle'"
      ]
     },
     "execution_count": 37,
     "metadata": {},
     "output_type": "execute_result"
    }
   ],
   "source": [
    "# Strip out all the punctuation\n",
    "reasonJoinedLowerStripped = \"\".join(l for l in reasonJoinedLower if l not in string.punctuation);reasonJoinedLowerStripped[:1000]"
   ]
  },
  {
   "cell_type": "code",
   "execution_count": 38,
   "metadata": {},
   "outputs": [
    {
     "data": {
      "text/plain": [
       "[('the', 38712),\n",
       " ('and', 28757),\n",
       " ('of', 27925),\n",
       " ('to', 24194),\n",
       " ('your', 24164),\n",
       " ('you', 14167),\n",
       " ('in', 13486),\n",
       " ('treatment', 13235),\n",
       " ('a', 10741),\n",
       " ('with', 9956),\n",
       " ('current', 8622),\n",
       " ('for', 8593),\n",
       " ('history', 8540),\n",
       " ('violence', 8378),\n",
       " ('as', 7965),\n",
       " ('abuse', 7880),\n",
       " ('substance', 7791),\n",
       " ('not', 7764),\n",
       " ('board', 7728),\n",
       " ('needs', 7680)]"
      ]
     },
     "execution_count": 38,
     "metadata": {},
     "output_type": "execute_result"
    }
   ],
   "source": [
    "# Get a word count of the most common words\n",
    "collections.Counter(reasonJoinedLowerStripped.split()).most_common()[:20]"
   ]
  },
  {
   "cell_type": "code",
   "execution_count": 39,
   "metadata": {},
   "outputs": [
    {
     "data": {
      "text/plain": [
       "681"
      ]
     },
     "execution_count": 39,
     "metadata": {},
     "output_type": "execute_result"
    }
   ],
   "source": [
    "# Get a count for the phrase 'due to the short duration'\n",
    "reasonJoinedLowerStripped.count('due to the short duration')"
   ]
  },
  {
   "cell_type": "code",
   "execution_count": 40,
   "metadata": {},
   "outputs": [
    {
     "name": "stdout",
     "output_type": "stream",
     "text": [
      "Count is 267\n"
     ]
    }
   ],
   "source": [
    "# This does the same as above using regular expressions\n",
    "\n",
    "count = 0\n",
    "\n",
    "# Search for the phrase 'due to the short duration'    \n",
    "# pattern = re.compile(r'due to the short duration', re.I) # Count is 681 validated above\n",
    "\n",
    "# Search for the phrases 'treatment need' or 'extensive criminal'\n",
    "#pattern = re.compile(r'.*treatment need|extensive criminal.*', re.I) # Count is 6464, validated above\n",
    "\n",
    "# Search for the phrases 'treatment need' or 'extensive criminal' in any order (tbc)\n",
    "#pattern = re.compile(r'^(?=.*?(treatment need|extensive criminal)).*$', re.I) # Count is 6464, validated above\n",
    "\n",
    "# Search for the phrase 'unmet treatment need', return the sentence\n",
    "#pattern = re.compile(r'^(?=.*?unmet treatment need).*$', re.I) # Count is 5660\n",
    "\n",
    "# Search for the phrases 'unmet treatment need' and 'treatment need' or 'extensive criminal'\n",
    "#pattern = re.compile(r'^(?=.*?unmet treatment need)(?=.*?treatment need|extensive criminal).*$', re.I) # Count 5660\n",
    "\n",
    "# Search for 'treatment need' or 'extensive criminal' and 'due to the short duration'\n",
    "#pattern = re.compile(r'^(?=.*?(treatment need|extensive criminal))(?=.*?due to the short duration).*$', re.I) # 669 verified\n",
    "\n",
    "# Search for phrase 'program' get ten characters on each side\n",
    "# pattern = re.compile(r'..........program..........',re.I) \n",
    "\n",
    "# Pattern searches in order for 'treatment need' or 'extensive criminal' first, then searches for 'not been assessed')\n",
    "#pattern = re.compile(r'(treatment need|extensive criminal).*(not been assessed).*(.......................program...............................................................)')\n",
    "\n",
    "# Searches below searches for the words in any order, to get ten chars on either side of program need to \n",
    "# do additional step below\n",
    "\n",
    "#pattern = re.compile(r'^(?=.*?(treatment need|extensive criminal))(?=.*?treatment program).*$', re.I) # Count 2495 verified\n",
    "pattern = re.compile(r'^(?=.*?(treatment need|extensive criminal))(?=.*?treatment program)(?=.*?backdating).*$', re.I) # Count 267 verified\n",
    "\n",
    "for reason in df2['Reason']:\n",
    "    match = pattern.search(reason)\n",
    "    if match:\n",
    "        count +=1\n",
    "        #print(match.group())\n",
    "print('Count is ' + str(count))"
   ]
  },
  {
   "cell_type": "markdown",
   "metadata": {},
   "source": [
    "### Additional step to get  30 or so chars on either side of the word 'program' "
   ]
  },
  {
   "cell_type": "code",
   "execution_count": 44,
   "metadata": {},
   "outputs": [],
   "source": [
    "count = 0\n",
    "# First search for a pattern that contains certain words in any order\n",
    "#pattern = re.compile(r'^(?=.*?(treatment need|extensive criminal))(?=.*?not been assessed).*$', re.I) # Count 1487 verified\n",
    "#pattern = re.compile(r'^(?=.*?(treatment need|extensive criminal))(?=.*?outstanding treatment).*$', re.I) # Count 387 verified\n",
    "pattern = re.compile(r'^(?=.*?(treatment need|extensive criminal))(?=.*?unmet treatment need).*$', re.I) # Count 5660 verified\n",
    "\n",
    "# Create a second pattern to search on with prior results\n",
    "pattern2 = re.compile(r'............................program..................................................')\n",
    "# Create an empty string\n",
    "group3 = ''\n",
    "for reason in df2['Reason']:\n",
    "    # Search the 'pattern' in the reason\n",
    "    match = pattern.search(reason)\n",
    "    if match:\n",
    "        matchResult = str(match.group())\n",
    "        # Search the pattern2 with the matchResult\n",
    "        match2 = pattern2.findall(matchResult)\n",
    "        if match2:\n",
    "            count +=1\n",
    "            #print(match2)\n",
    "            group3 = group3 + str(match2)\n",
    "#print('Count is ' + str(count))\n",
    "#print(group3)"
   ]
  },
  {
   "cell_type": "code",
   "execution_count": 45,
   "metadata": {},
   "outputs": [
    {
     "data": {
      "text/plain": [
       "[('the', 2566),\n",
       " ('to', 2556),\n",
       " ('treatment', 2338),\n",
       " ('in', 2199),\n",
       " ('programmes', 1967),\n",
       " ('intensive', 1950),\n",
       " ('any', 1286),\n",
       " ('due', 1215),\n",
       " ('and', 1106),\n",
       " ('whilst', 1068),\n",
       " ('custody', 1054),\n",
       " ('of', 1016),\n",
       " ('for', 797),\n",
       " ('short', 685),\n",
       " ('you', 675),\n",
       " ('duration', 642),\n",
       " ('your', 593),\n",
       " ('program', 583),\n",
       " ('programme', 468),\n",
       " ('have', 451)]"
      ]
     },
     "execution_count": 45,
     "metadata": {},
     "output_type": "execute_result"
    }
   ],
   "source": [
    "# 20 most common words from above where\n",
    "    # Rows are removed if they contain any null values\n",
    "    # The outcome is 'Denied'\n",
    "    # Reasons are grouped at an individual level\n",
    "    # Via RE (regular expression) the reason contains ('treatment need' or 'extensive criminal') and 'unmet treatment need'\n",
    "    # Then if the result of the line contains program get the string that contains 30 or so characters either side\n",
    "    # Split the string and get the 20 most common words\n",
    "    # I picked popular words like 'short' and 'duration' and created columns that check whether they contained certain\n",
    "    # phrases like 'due to the short duration', e.g. below. Created in notebook 'Linked Parole and TOMS V1 Binned'\n",
    "    # df3['due to the short duration'] = np.where(df3['Reason'].str.contains('due to the short duration', case=False, na=False), 'Y', 'N' )\n",
    "    \n",
    "collections.Counter(group3.split()).most_common()[:20]"
   ]
  },
  {
   "cell_type": "markdown",
   "metadata": {},
   "source": [
    "### Get the count of individuals with 'unmet needs' and reason does not contain 'short duration' or 'backdating'"
   ]
  },
  {
   "cell_type": "code",
   "execution_count": 46,
   "metadata": {},
   "outputs": [
    {
     "name": "stdout",
     "output_type": "stream",
     "text": [
      "Count is 4677\n"
     ]
    }
   ],
   "source": [
    "#pattern = re.compile(r'^(?=.*?(treatment need|extensive criminal)).*$', re.I) # count 6464\n",
    "#pattern = re.compile(r'^(?=.*?(treatment need|extensive criminal))(?=.*?(unmet treatment need)).*$', re.I) # count 5660\n",
    "#pattern = re.compile(r'^(?=.*?(treatment need)).*$', re.I) # count 6037\n",
    "pattern = re.compile(r'^(?=.*?(treatment need|extensive criminal))(?=.*?(unmet treatment need))(?!.*?(due to the short duration))(?!.*?(backdating)).*$', re.I) # count 4677 validated\n",
    "count = 0\n",
    "for reason in df2['Reason']:\n",
    "    match = pattern.search(reason)\n",
    "    if match:\n",
    "        count +=1\n",
    "        #print(match.group())\n",
    "print('Count is ' + str(count))"
   ]
  },
  {
   "cell_type": "markdown",
   "metadata": {},
   "source": [
    "### RE Parole reason tests"
   ]
  },
  {
   "cell_type": "code",
   "execution_count": 47,
   "metadata": {},
   "outputs": [],
   "source": [
    "sentence = 'due to short duration of sentence, you will not be treatment assessed and you have outstanding treatment needs'\n",
    "sentence2 = 'due to sshort duration of sentence, you will not be treatment assessed and you have outstanding treatment needs'\n",
    "sentence3 = 'due to hort duration of sentence, you will not be treatment assessed and you have outstanding treatment needs'\n",
    "sentence4 = 'due to -short duration of sentence, you will not be treatment assessed and you have outstanding treatment needs'\n",
    "sentence5 = 'due to///short duration of sentence, you will not be treatment assessed and you have outstanding treatment needs'\n",
    "sentence6 = 'due to 10 short duration of 9 sentence, you will not be 8 treatment assessed'\n",
    "sentence7 = 'dhdhdhdhue to short duration of sentence, you will not be treatment assessed and you have outstanding treatment needs'\n",
    "sentence8 = 'due to short duration of of sentence, you will not be treatment assessed and you have outstanding treatment needs'\n",
    "sentence9 = 'due to short.duration of sentence, you will not be treatment assessed and you have outstanding treatment needs'"
   ]
  },
  {
   "cell_type": "code",
   "execution_count": 48,
   "metadata": {},
   "outputs": [
    {
     "data": {
      "text/plain": [
       "'short duration'"
      ]
     },
     "execution_count": 48,
     "metadata": {},
     "output_type": "execute_result"
    }
   ],
   "source": [
    "# Search for the phrase 'short duration' in the sentence\n",
    "m = re.search(r'short duration', sentence)\n",
    "m.group()"
   ]
  },
  {
   "cell_type": "code",
   "execution_count": 49,
   "metadata": {},
   "outputs": [
    {
     "data": {
      "text/plain": [
       "'short'"
      ]
     },
     "execution_count": 49,
     "metadata": {},
     "output_type": "execute_result"
    }
   ],
   "source": [
    "# [ ] is used to specify a character class, metacharacters are not active inside a class\n",
    "# Search for a word where the first letter is matched to any characters in [rst] and is followed by hort\n",
    "m = re.search(r'[rst]hort', sentence)\n",
    "m.group()"
   ]
  },
  {
   "cell_type": "code",
   "execution_count": 50,
   "metadata": {},
   "outputs": [
    {
     "data": {
      "text/plain": [
       "'short'"
      ]
     },
     "execution_count": 50,
     "metadata": {},
     "output_type": "execute_result"
    }
   ],
   "source": [
    "# You can match characters NOT listed within the class by complementng the set, indicated by '^'\n",
    "# Will match any character except 'x', followed by hort\n",
    "m = re.search(r'[^x]hort', sentence)\n",
    "m.group()"
   ]
  },
  {
   "cell_type": "code",
   "execution_count": 51,
   "metadata": {},
   "outputs": [
    {
     "data": {
      "text/plain": [
       "'short'"
      ]
     },
     "execution_count": 51,
     "metadata": {},
     "output_type": "execute_result"
    }
   ],
   "source": [
    "# '\\w' mathces andy alphanumeric character equivalent to [a-zA_Z0-9_]\n",
    "# Below mathes any alphanumeric character followed by 'hort'\n",
    "m  = re.search(r'\\whort', sentence)\n",
    "m.group()"
   ]
  },
  {
   "cell_type": "code",
   "execution_count": 52,
   "metadata": {},
   "outputs": [
    {
     "data": {
      "text/plain": [
       "'sshort'"
      ]
     },
     "execution_count": 52,
     "metadata": {},
     "output_type": "execute_result"
    }
   ],
   "source": [
    "# The metacharter for repeating things is '*'\n",
    "# *    '- 0 or More'\n",
    "# Looks like RE quantifier * searches for 0 or more of the previous\n",
    "match = re.search(r's*hort', sentence2, re.I)\n",
    "match.group()"
   ]
  },
  {
   "cell_type": "code",
   "execution_count": 53,
   "metadata": {},
   "outputs": [
    {
     "data": {
      "text/plain": [
       "'short'"
      ]
     },
     "execution_count": 53,
     "metadata": {},
     "output_type": "execute_result"
    }
   ],
   "source": [
    "# Another repeating metacharacter is +, which matches one or more times. (requires one occurrence)\n",
    "# Will work\n",
    "match = re.search(r's+hort', sentence)\n",
    "# Won't work on sentence3 as no 's'\n",
    "#match = re.search(r's+hort', sentence3)\n",
    "match.group()"
   ]
  },
  {
   "cell_type": "code",
   "execution_count": 54,
   "metadata": {},
   "outputs": [
    {
     "data": {
      "text/plain": [
       "'to -short'"
      ]
     },
     "execution_count": 54,
     "metadata": {},
     "output_type": "execute_result"
    }
   ],
   "source": [
    "# The question mark character '?' matches either once or zero times, it's optional\n",
    "match = re.search(r'to -?short', sentence)\n",
    "match = re.search(r'to -?short', sentence4)\n",
    "match.group()"
   ]
  },
  {
   "cell_type": "code",
   "execution_count": 55,
   "metadata": {},
   "outputs": [
    {
     "data": {
      "text/plain": [
       "'to///short'"
      ]
     },
     "execution_count": 55,
     "metadata": {},
     "output_type": "execute_result"
    }
   ],
   "source": [
    "# The most complicated repeated qualifier is {m,n}, where m and n are decimal integers.\n",
    "# This qualifier means there must be at least m repetitions, and at most n.\n",
    "match = re.search(r'to/{1,3}short', sentence5, re.I)\n",
    "match.group()"
   ]
  },
  {
   "cell_type": "code",
   "execution_count": 56,
   "metadata": {},
   "outputs": [
    {
     "data": {
      "text/plain": [
       "'treatment ass'"
      ]
     },
     "execution_count": 56,
     "metadata": {},
     "output_type": "execute_result"
    }
   ],
   "source": [
    "# The '.' character returns any character except New Line\n",
    "match = re.search(r'treatment....', sentence5)\n",
    "match.group()"
   ]
  },
  {
   "cell_type": "code",
   "execution_count": 57,
   "metadata": {},
   "outputs": [
    {
     "data": {
      "text/plain": [
       "['short']"
      ]
     },
     "execution_count": 57,
     "metadata": {},
     "output_type": "execute_result"
    }
   ],
   "source": [
    "# Other attribute findall()\n",
    "# Finds all substrings where the RE matches, and returns them as a list\n",
    "match = re.findall(r'short', sentence6, re.I)\n",
    "match"
   ]
  },
  {
   "cell_type": "code",
   "execution_count": 58,
   "metadata": {},
   "outputs": [
    {
     "name": "stdout",
     "output_type": "stream",
     "text": [
      "<_sre.SRE_Match object; span=(10, 15), match='short'>\n"
     ]
    }
   ],
   "source": [
    "# Other attribute finditer()\n",
    "# Find all substrings where the RE matches, return them as an iterator\n",
    "matches = re.finditer(r'short', sentence6)\n",
    "for match in matches:\n",
    "    print(match)"
   ]
  },
  {
   "cell_type": "code",
   "execution_count": 59,
   "metadata": {},
   "outputs": [
    {
     "data": {
      "text/plain": [
       "'due to'"
      ]
     },
     "execution_count": 59,
     "metadata": {},
     "output_type": "execute_result"
    }
   ],
   "source": [
    "# Other attribute match\n",
    "# Determine if the RE matches at the beginning of the string\n",
    "match = re.match(r'due to', sentence6, re.I)\n",
    "match.group()"
   ]
  },
  {
   "cell_type": "code",
   "execution_count": 60,
   "metadata": {},
   "outputs": [
    {
     "data": {
      "text/plain": [
       "<_sre.SRE_Match object; span=(0, 3), match='due'>"
      ]
     },
     "execution_count": 60,
     "metadata": {},
     "output_type": "execute_result"
    }
   ],
   "source": [
    "# Examples\n",
    "#'+' means one or more\n",
    "match = re.match(r'[a-z]+', sentence, re.I)\n",
    "match"
   ]
  },
  {
   "cell_type": "code",
   "execution_count": 61,
   "metadata": {},
   "outputs": [
    {
     "data": {
      "text/plain": [
       "<_sre.SRE_Match object; span=(0, 3), match='due'>"
      ]
     },
     "execution_count": 61,
     "metadata": {},
     "output_type": "execute_result"
    }
   ],
   "source": [
    "match = re.match(r'due', sentence, re.I)\n",
    "match"
   ]
  },
  {
   "cell_type": "code",
   "execution_count": 62,
   "metadata": {},
   "outputs": [
    {
     "data": {
      "text/plain": [
       "'due'"
      ]
     },
     "execution_count": 62,
     "metadata": {},
     "output_type": "execute_result"
    }
   ],
   "source": [
    "# Group returns the substring that was matched\n",
    "match.group()"
   ]
  },
  {
   "cell_type": "code",
   "execution_count": 63,
   "metadata": {},
   "outputs": [
    {
     "data": {
      "text/plain": [
       "(0, 3)"
      ]
     },
     "execution_count": 63,
     "metadata": {},
     "output_type": "execute_result"
    }
   ],
   "source": [
    "# Returns start and ending index\n",
    "match.start(), match.end()"
   ]
  },
  {
   "cell_type": "code",
   "execution_count": 64,
   "metadata": {},
   "outputs": [
    {
     "data": {
      "text/plain": [
       "(0, 3)"
      ]
     },
     "execution_count": 64,
     "metadata": {},
     "output_type": "execute_result"
    }
   ],
   "source": [
    "match.span()"
   ]
  },
  {
   "cell_type": "code",
   "execution_count": 65,
   "metadata": {},
   "outputs": [
    {
     "name": "stdout",
     "output_type": "stream",
     "text": [
      "No match\n"
     ]
    }
   ],
   "source": [
    "# NOTE: The match() method only checks if the RE matches at the start of a string\n",
    "# search() method of patterns scans through the string\n",
    "# Below match() won't work as treatment is not at the beginning of the string\n",
    "match = re.match(r'treatment', sentence, re.I)\n",
    "if match:\n",
    "    print('Match found: ', match.group())\n",
    "else:\n",
    "    print('No match')"
   ]
  },
  {
   "cell_type": "code",
   "execution_count": 66,
   "metadata": {},
   "outputs": [
    {
     "name": "stdout",
     "output_type": "stream",
     "text": [
      "Match found:  <_sre.SRE_Match object; span=(51, 60), match='treatment'>\n"
     ]
    }
   ],
   "source": [
    "# search() will work and treatment is in string\n",
    "match = re.search(r'treatment', sentence, re.I)\n",
    "if match:\n",
    "    print('Match found: ', match)\n",
    "else:\n",
    "    print('No match')"
   ]
  },
  {
   "cell_type": "code",
   "execution_count": 67,
   "metadata": {},
   "outputs": [
    {
     "data": {
      "text/plain": [
       "['10', '9', '8']"
      ]
     },
     "execution_count": 67,
     "metadata": {},
     "output_type": "execute_result"
    }
   ],
   "source": [
    "# Example to return all the matches of a pattern. Returns all the digits\n",
    "# findall() creates a list\n",
    "match = re.findall(r'\\d+', sentence6, re.I)\n",
    "match"
   ]
  },
  {
   "cell_type": "code",
   "execution_count": 68,
   "metadata": {},
   "outputs": [
    {
     "name": "stdout",
     "output_type": "stream",
     "text": [
      "<_sre.SRE_Match object; span=(7, 9), match='10'>\n",
      "<_sre.SRE_Match object; span=(28, 29), match='9'>\n",
      "<_sre.SRE_Match object; span=(56, 57), match='8'>\n"
     ]
    }
   ],
   "source": [
    "# finditer() method returns a sequence of match object as an iterator\n",
    "matches = re.finditer(r'\\d+', sentence6, re.I)\n",
    "for match in matches:\n",
    "    print(match)"
   ]
  },
  {
   "cell_type": "code",
   "execution_count": 69,
   "metadata": {},
   "outputs": [
    {
     "data": {
      "text/plain": [
       "<_sre.SRE_Match object; span=(0, 3), match='due'>"
      ]
     },
     "execution_count": 69,
     "metadata": {},
     "output_type": "execute_result"
    }
   ],
   "source": [
    "# Compilation Flags, example re.I and Verbose\n",
    "# Multiline, usually '^' matches only at the beginning of the string, and\n",
    "match = re.search(r'^due', sentence6, re.I)\n",
    "match"
   ]
  },
  {
   "cell_type": "code",
   "execution_count": 70,
   "metadata": {},
   "outputs": [
    {
     "data": {
      "text/plain": [
       "<_sre.SRE_Match object; span=(68, 76), match='assessed'>"
      ]
     },
     "execution_count": 70,
     "metadata": {},
     "output_type": "execute_result"
    }
   ],
   "source": [
    "# '$' matches only at the end of the string\n",
    "match = re.search(r'assessed$', sentence6, re.I)\n",
    "match"
   ]
  },
  {
   "cell_type": "code",
   "execution_count": 71,
   "metadata": {},
   "outputs": [
    {
     "data": {
      "text/plain": [
       "<_sre.SRE_Match object; span=(39, 43), match='will'>"
      ]
     },
     "execution_count": 71,
     "metadata": {},
     "output_type": "execute_result"
    }
   ],
   "source": [
    "# More metacharacters\n",
    "# '\\b' is word boundary, only matches when a complete word, won't match when contained inside another word\n",
    "match = re.search(r'\\bwill\\b', sentence, re.I)\n",
    "match"
   ]
  },
  {
   "cell_type": "code",
   "execution_count": 72,
   "metadata": {},
   "outputs": [
    {
     "data": {
      "text/plain": [
       "'will'"
      ]
     },
     "execution_count": 72,
     "metadata": {},
     "output_type": "execute_result"
    }
   ],
   "source": [
    "# '|', match word1 'or' word2\n",
    "match = re.search(r'\\bzzzz|will\\b', sentence, re.I)\n",
    "match.group()"
   ]
  },
  {
   "cell_type": "code",
   "execution_count": 73,
   "metadata": {},
   "outputs": [
    {
     "data": {
      "text/plain": [
       "(0, 8)"
      ]
     },
     "execution_count": 73,
     "metadata": {},
     "output_type": "execute_result"
    }
   ],
   "source": [
    "# Groups are marked by the '(', ')' metacharacters, grouping expressions contained inside the brackets\n",
    "# You can repeat the contents of a group with a repeating qualifier, such as *,+,?, or {m,n}\n",
    "match = re.match(r'(dh)*', sentence7, re.I)\n",
    "match.span()"
   ]
  },
  {
   "cell_type": "code",
   "execution_count": 74,
   "metadata": {},
   "outputs": [
    {
     "data": {
      "text/plain": [
       "(0, 8)"
      ]
     },
     "execution_count": 74,
     "metadata": {},
     "output_type": "execute_result"
    }
   ],
   "source": [
    "match = re.search(r'(dh)*', sentence7, re.I)\n",
    "match.span()"
   ]
  },
  {
   "cell_type": "code",
   "execution_count": 75,
   "metadata": {},
   "outputs": [
    {
     "data": {
      "text/plain": [
       "'short '"
      ]
     },
     "execution_count": 75,
     "metadata": {},
     "output_type": "execute_result"
    }
   ],
   "source": [
    "# Group 0 is always present\n",
    "match = re.search('(short )duration', sentence, re.I)\n",
    "match.group(1)"
   ]
  },
  {
   "cell_type": "code",
   "execution_count": 76,
   "metadata": {},
   "outputs": [
    {
     "data": {
      "text/plain": [
       "'will'"
      ]
     },
     "execution_count": 76,
     "metadata": {},
     "output_type": "execute_result"
    }
   ],
   "source": [
    "#Subgroups are numbered from left to right, from 1 upward.\n",
    "match = re.search('(you (will) not) be', sentence, re.I)\n",
    "match.group(0) # 'you will not be'\n",
    "match.group(1) # 'you will not'\n",
    "match.group(2) # 'will'"
   ]
  },
  {
   "cell_type": "code",
   "execution_count": 77,
   "metadata": {},
   "outputs": [
    {
     "data": {
      "text/plain": [
       "('will', 'you will not', 'you will not')"
      ]
     },
     "execution_count": 77,
     "metadata": {},
     "output_type": "execute_result"
    }
   ],
   "source": [
    "# Groups can be passed multiple numbers at a time\n",
    "match.group(2, 1, 1)"
   ]
  },
  {
   "cell_type": "code",
   "execution_count": 78,
   "metadata": {},
   "outputs": [
    {
     "data": {
      "text/plain": [
       "('you will not', 'will')"
      ]
     },
     "execution_count": 78,
     "metadata": {},
     "output_type": "execute_result"
    }
   ],
   "source": [
    "#The groups() method returns a tuple containing the stringss for all subgroups\n",
    "match.groups()"
   ]
  },
  {
   "cell_type": "code",
   "execution_count": 79,
   "metadata": {},
   "outputs": [
    {
     "data": {
      "text/plain": [
       "'of of'"
      ]
     },
     "execution_count": 79,
     "metadata": {},
     "output_type": "execute_result"
    }
   ],
   "source": [
    "# Backreferences in a pattern allow you specify that the current contents of an earlier capturing group\n",
    "# must also be found at the current location in the string\n",
    "# The following detects doubled words in a string\n",
    "# \\b denote boundary \\w denotes word \\s denotes whitespace \\1 denotes the first word in the group hence repeated\n",
    "match = re.search(r'\\b(\\w+)\\s+\\1\\b', sentence8, re.I)\n",
    "match.group()"
   ]
  },
  {
   "cell_type": "code",
   "execution_count": 80,
   "metadata": {},
   "outputs": [
    {
     "data": {
      "text/plain": [
       "('a',)"
      ]
     },
     "execution_count": 80,
     "metadata": {},
     "output_type": "execute_result"
    }
   ],
   "source": [
    "# Sometimes you'll want to use a group to denote a part of a regular expression, but \n",
    "# aren't interested in retrieving the group's contents\n",
    "match = re.search(r'([abc])+', sentence, re.I)\n",
    "match.groups()"
   ]
  },
  {
   "cell_type": "code",
   "execution_count": 81,
   "metadata": {},
   "outputs": [
    {
     "data": {
      "text/plain": [
       "()"
      ]
     },
     "execution_count": 81,
     "metadata": {},
     "output_type": "execute_result"
    }
   ],
   "source": [
    "# You can make this fact explicit by using a non-capturing group (?:...) replace ... with any RE ????? Not sure\n",
    "# Can't retrieve contents of what group matched?\n",
    "match = re.search(r'(?:[abc])+', sentence, re.I)\n",
    "match.groups()"
   ]
  },
  {
   "cell_type": "code",
   "execution_count": 82,
   "metadata": {},
   "outputs": [
    {
     "data": {
      "text/plain": [
       "'due'"
      ]
     },
     "execution_count": 82,
     "metadata": {},
     "output_type": "execute_result"
    }
   ],
   "source": [
    "# Groups can be referenced by name, still given numbers can retrieve both ways\n",
    "# The syntax for a named group is (?P<name>)\n",
    "match = re.search(r'(?P<test>\\b\\w+\\b)', sentence)\n",
    "match.group('test')"
   ]
  },
  {
   "cell_type": "code",
   "execution_count": 83,
   "metadata": {},
   "outputs": [
    {
     "data": {
      "text/plain": [
       "<_sre.SRE_Match object; span=(0, 110), match='due to short duration of sentence, you will not b>"
      ]
     },
     "execution_count": 83,
     "metadata": {},
     "output_type": "execute_result"
    }
   ],
   "source": [
    "# Lookahead Assertions\n",
    "# Positive lookahead assertion (?=...)   ... represents the RE      (succeeds if matches)\n",
    "match = re.search(r'^(?=.*?not)(?=.*?short).*$', sentence, re.I)\n",
    "match"
   ]
  },
  {
   "cell_type": "code",
   "execution_count": 84,
   "metadata": {},
   "outputs": [
    {
     "data": {
      "text/plain": [
       "<_sre.SRE_Match object; span=(0, 110), match='due to short duration of sentence, you will not b>"
      ]
     },
     "execution_count": 84,
     "metadata": {},
     "output_type": "execute_result"
    }
   ],
   "source": [
    "# Negative lookahead assertion (?!...)  ... represents the RE       (succeeds if doesn't match)\n",
    "# search for a pattern that contains 'not' and does not contain 'zzzz'\n",
    "# Note: Use '?!' for negative and '?=' for positive\n",
    "match = re.search(r'^(?=.*?not)(?!.*?zzzz).*$', sentence, re.I)\n",
    "match"
   ]
  },
  {
   "cell_type": "code",
   "execution_count": 85,
   "metadata": {},
   "outputs": [
    {
     "data": {
      "text/plain": [
       "<_sre.SRE_Match object; span=(0, 110), match='due to short.duration of sentence, you will not b>"
      ]
     },
     "execution_count": 85,
     "metadata": {},
     "output_type": "execute_result"
    }
   ],
   "source": [
    "# lookahead example\n",
    "# Use [.] to match the specific character class\n",
    "# The trailing '$' is added to ensure the rest of the string is included \n",
    "match = re.search(r'.*[.].*$', sentence9, re.I)\n",
    "match.group()\n",
    "match"
   ]
  },
  {
   "cell_type": "code",
   "execution_count": 86,
   "metadata": {},
   "outputs": [],
   "source": [
    "# #pattern = re.compile(r'^(?=.*?(treatment need|extensive criminal))(?=.*?unmet treatment need).*$', re.I)\n"
   ]
  },
  {
   "cell_type": "markdown",
   "metadata": {},
   "source": [
    "### RE Parole reason tests"
   ]
  },
  {
   "cell_type": "code",
   "execution_count": 87,
   "metadata": {},
   "outputs": [],
   "source": [
    "sentence = 'due to short duration of sentence, you will not be treatment assessed and you have outstanding treatment needs'\n",
    "sentence2 = 'due to sshort duration of sentence, you will not be treatment assessed and you have outstanding treatment needs'\n",
    "sentence3 = 'due to hort duration of sentence, you will not be treatment assessed and you have outstanding treatment needs'\n",
    "sentence4 = 'due to -short duration of sentence, you will not be treatment assessed and you have outstanding treatment needs'\n",
    "sentence5 = 'due to///short duration of sentence, you will not be treatment assessed and you have outstanding treatment needs'\n",
    "sentence6 = 'due to 10 short duration of 9 sentence, you will not be 8 treatment assessed'\n",
    "sentence7 = 'dhdhdhdhue to short duration of sentence, you will not be treatment assessed and you have outstanding treatment needs'\n",
    "sentence8 = 'due to short duration of of sentence, you will not be treatment assessed and you have outstanding treatment needs'\n",
    "sentence9 = 'due to short.duration of sentence, you will not be treatment assessed and you have outstanding treatment needs'\n"
   ]
  },
  {
   "cell_type": "code",
   "execution_count": null,
   "metadata": {},
   "outputs": [],
   "source": []
  },
  {
   "cell_type": "code",
   "execution_count": null,
   "metadata": {},
   "outputs": [],
   "source": []
  }
 ],
 "metadata": {
  "kernelspec": {
   "display_name": "Python 3",
   "language": "python",
   "name": "python3"
  },
  "language_info": {
   "codemirror_mode": {
    "name": "ipython",
    "version": 3
   },
   "file_extension": ".py",
   "mimetype": "text/x-python",
   "name": "python",
   "nbconvert_exporter": "python",
   "pygments_lexer": "ipython3",
   "version": "3.6.4"
  }
 },
 "nbformat": 4,
 "nbformat_minor": 2
}
